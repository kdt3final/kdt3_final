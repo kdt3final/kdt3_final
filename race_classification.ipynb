{
  "cells": [
    {
      "cell_type": "markdown",
      "metadata": {},
      "source": [
        "# 데이터 불러오기"
      ]
    },
    {
      "cell_type": "code",
      "execution_count": 1,
      "metadata": {
        "colab": {
          "base_uri": "https://localhost:8080/"
        },
        "id": "xEhB4qgctd5n",
        "outputId": "219cb77c-a90e-4fcf-d89c-39262827469c"
      },
      "outputs": [
        {
          "name": "stdout",
          "output_type": "stream",
          "text": [
            "Mounted at /content/drive\n"
          ]
        }
      ],
      "source": [
        "# 로컬일 경우 아래 코드 실행 x\n",
        "from google.colab import drive\n",
        "drive.mount('/content/drive')"
      ]
    },
    {
      "cell_type": "code",
      "execution_count": 23,
      "metadata": {
        "id": "Cj8-TEYsth8c"
      },
      "outputs": [],
      "source": [
        "import json\n",
        "\n",
        "def load_labels(json_file):\n",
        "    with open(json_file, 'r') as f:\n",
        "        data = json.load(f)\n",
        "    return data\n",
        "\n",
        "train_labels = load_labels('/content/drive/MyDrive/project/KDT_kiosk/face_crop/label/labels.json')"
      ]
    },
    {
      "cell_type": "code",
      "execution_count": null,
      "metadata": {
        "id": "CUUcONdLvNK0"
      },
      "outputs": [],
      "source": [
        "train_labels"
      ]
    },
    {
      "cell_type": "code",
      "execution_count": 25,
      "metadata": {
        "id": "QM56jGRA6x4w"
      },
      "outputs": [],
      "source": [
        "# 수정할 경로\n",
        "old_path = '/content/drive/MyDrive/project/KDT_kiosk/data/est_face_emotion/face_crop/img/'\n",
        "new_path = '/content/drive/MyDrive/project/KDT_kiosk/face_crop/img/'\n",
        "\n",
        "# 경로 수정\n",
        "for item in train_labels:\n",
        "    if 'image' in item:\n",
        "        item['image'] = item['image'].replace(old_path, new_path)"
      ]
    },
    {
      "cell_type": "code",
      "execution_count": null,
      "metadata": {
        "id": "yVDt5CA962iH"
      },
      "outputs": [],
      "source": [
        "train_labels"
      ]
    },
    {
      "cell_type": "code",
      "execution_count": null,
      "metadata": {
        "id": "BYCpfbbeuhnl"
      },
      "outputs": [],
      "source": [
        "import os\n",
        "import shutil\n",
        "\n",
        "def organize_images_from_json(json_data, img_base_path, output_base_path):\n",
        "    # 디렉토리 생성\n",
        "    os.makedirs(output_base_path, exist_ok=True)\n",
        "\n",
        "    # 모든 인종 클래스 추출\n",
        "    race_classes = set(item['race'] for item in json_data)\n",
        "    for cls in race_classes:\n",
        "        os.makedirs(os.path.join(output_base_path, cls), exist_ok=True)\n",
        "\n",
        "    # 이미지 이동 또는 복사\n",
        "    for item in json_data:\n",
        "        img_path = item['image']\n",
        "        race = item['race']\n",
        "\n",
        "        # 이미지 파일 경로 수정\n",
        "        img_name = os.path.basename(img_path)\n",
        "        new_img_path = os.path.join(output_base_path, race, img_name)\n",
        "\n",
        "        # 이미지 파일이 존재하는지 확인\n",
        "        if os.path.isfile(img_path):\n",
        "            shutil.copy(img_path, new_img_path)\n",
        "        else:\n",
        "            print(f\"Warning: {img_path} not found.\")\n",
        "\n",
        "# 경로 설정\n",
        "img_base_path = '/content/drive/MyDrive/project/KDT_kiosk/data/est_face_emotion/face_crop/img'\n",
        "output_base_path = '/content/drive/MyDrive/project/KDT_kiosk/organized_dataset'\n",
        "\n",
        "# 이미지 정리 함수 호출\n",
        "organize_images_from_json(train_labels, img_base_path, output_base_path)"
      ]
    },
    {
      "cell_type": "markdown",
      "metadata": {
        "id": "qrB9EUf92F1E"
      },
      "source": [
        "# dataset을 불러온 다음 과정"
      ]
    },
    {
      "cell_type": "code",
      "execution_count": null,
      "metadata": {
        "id": "al6aeFy2vWj7"
      },
      "outputs": [],
      "source": [
        "from tensorflow.keras.applications import VGG16\n",
        "from tensorflow.keras.models import Model\n",
        "from tensorflow.keras.layers import Dense, Flatten\n",
        "from tensorflow.keras.optimizers import Adam\n",
        "\n",
        "# 사전 훈련된 VGG16 모델 로드\n",
        "base_model = VGG16(weights='imagenet', include_top=False, input_shape=(224, 224, 3))\n",
        "\n",
        "# 커스텀 레이어 추가\n",
        "x = base_model.output\n",
        "x = Flatten()(x)\n",
        "x = Dense(256, activation='relu')(x)\n",
        "race_output = Dense(len(race_classes), activation='softmax')(x)  # 클래스 수\n",
        "\n",
        "model = Model(inputs=base_model.input, outputs=race_output)\n",
        "\n",
        "# 모델 컴파일\n",
        "model.compile(optimizer=Adam(lr=0.0001), loss='categorical_crossentropy', metrics=['accuracy'])\n",
        "\n",
        "# 모델 훈련\n",
        "history = model.fit(\n",
        "    train_generator,\n",
        "    validation_data=validation_generator,\n",
        "    epochs=10\n",
        ")\n",
        "\n",
        "# 모델 저장\n",
        "model.save('racial_classification_model.h5')"
      ]
    },
    {
      "cell_type": "code",
      "execution_count": null,
      "metadata": {
        "id": "eAGq-jLm2Nyr"
      },
      "outputs": [],
      "source": [
        "from tensorflow.keras.models import load_model\n",
        "\n",
        "# 커스텀 인종 분류 모델 로드\n",
        "racial_model = load_model('racial_classification_model.h5')"
      ]
    },
    {
      "cell_type": "code",
      "execution_count": null,
      "metadata": {
        "id": "Igx6WzdP2PPJ"
      },
      "outputs": [],
      "source": [
        "import cv2\n",
        "import numpy as np\n",
        "from deepface import DeepFace\n",
        "\n",
        "def analyze_with_custom_race(image_path):\n",
        "    # 이미지 로드\n",
        "    img = cv2.imread(image_path)\n",
        "    img = cv2.cvtColor(img, cv2.COLOR_BGR2RGB)\n",
        "\n",
        "    # DeepFace를 사용해 얼굴 특징 추출\n",
        "    analysis = DeepFace.analyze(image_path, actions=['emotion', 'age', 'gender'])\n",
        "\n",
        "    # 커스텀 인종 분류 모델에 맞게 이미지 전처리\n",
        "    img_resized = cv2.resize(img, (224, 224)) / 255.0\n",
        "    img_array = np.expand_dims(img_resized, axis=0)\n",
        "\n",
        "    # 인종 예측\n",
        "    predictions = racial_model.predict(img_array)\n",
        "    race_class = np.argmax(predictions[0])\n",
        "\n",
        "    # 분석 결과에 인종 정보 추가\n",
        "    race_classes = ['oriental', 'caucasian', 'black', 'hispanic']  # 실제 클래스에 맞게 업데이트\n",
        "    analysis['race'] = race_classes[race_class]\n",
        "\n",
        "    return analysis\n",
        "\n",
        "# 예시 사용\n",
        "result = analyze_with_custom_race('/path/to/your/image.jpg')\n",
        "print(result)"
      ]
    },
    {
      "cell_type": "markdown",
      "metadata": {
        "id": "nh2Agx5_257H"
      },
      "source": [
        "# 기존 deepface만으로 했을때 비교 예정"
      ]
    },
    {
      "cell_type": "code",
      "execution_count": null,
      "metadata": {
        "id": "X0WPoucN29ZL"
      },
      "outputs": [],
      "source": []
    }
  ],
  "metadata": {
    "accelerator": "GPU",
    "colab": {
      "gpuType": "T4",
      "provenance": []
    },
    "kernelspec": {
      "display_name": "Python 3",
      "name": "python3"
    },
    "language_info": {
      "name": "python"
    }
  },
  "nbformat": 4,
  "nbformat_minor": 0
}
